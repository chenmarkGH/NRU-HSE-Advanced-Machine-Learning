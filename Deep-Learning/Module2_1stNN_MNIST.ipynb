{
 "cells": [
  {
   "cell_type": "code",
   "execution_count": 1,
   "metadata": {},
   "outputs": [],
   "source": [
    "import numpy as np"
   ]
  },
  {
   "cell_type": "code",
   "execution_count": 2,
   "metadata": {},
   "outputs": [
    {
     "name": "stderr",
     "output_type": "stream",
     "text": [
      "Using TensorFlow backend.\n"
     ]
    },
    {
     "name": "stdout",
     "output_type": "stream",
     "text": [
      "(50000, 28, 28) (50000,)\n"
     ]
    },
    {
     "data": {
      "image/png": "[encoded data removed]",
      "text/plain": [
       "<matplotlib.figure.Figure at 0x7f5ee40dc2b0>"
      ]
     },
     "metadata": {},
     "output_type": "display_data"
    }
   ],
   "source": [
    "from preprocessed_mnist import load_dataset\n",
    "X_train, y_train, X_val, y_val, X_test, y_test = load_dataset()\n",
    "print(X_train.shape, y_train.shape)\n",
    "import matplotlib.pyplot as plt\n",
    "%matplotlib inline\n",
    "plt.imshow(X_train[0], cmap=\"Greys\");"
   ]
  },
  {
   "cell_type": "code",
   "execution_count": 3,
   "metadata": {},
   "outputs": [],
   "source": [
    "# Now that we've fixed our final model, let's add in cross-validation data to make it even better.\n",
    "\n",
    "img_side = X_train.shape[1]\n",
    "\n",
    "X_train = np.concatenate([X_train, X_val])\n",
    "y_train = np.concatenate([y_train, y_val])\n",
    "\n",
    "X_train = np.reshape(X_train, (X_train.shape[0], img_side * img_side))\n",
    "X_test = np.reshape(X_test, (X_test.shape[0], img_side * img_side))"
   ]
  },
  {
   "cell_type": "code",
   "execution_count": 4,
   "metadata": {},
   "outputs": [],
   "source": [
    "def mask_y(y):\n",
    "    mask = np.zeros((y.size, 10), dtype = \"float32\")\n",
    "    for i, c in enumerate(y):\n",
    "        mask[i][c] = 1\n",
    "    return mask"
   ]
  },
  {
   "cell_type": "code",
   "execution_count": 5,
   "metadata": {},
   "outputs": [],
   "source": [
    "import tensorflow as tf\n",
    "\n",
    "tf.reset_default_graph()\n",
    "session = tf.InteractiveSession()"
   ]
  },
  {
   "cell_type": "code",
   "execution_count": 6,
   "metadata": {},
   "outputs": [],
   "source": [
    "input_X = tf.placeholder(tf.float32, shape = (None, img_side * img_side))\n",
    "input_y = tf.placeholder(tf.float32, shape = (None, 10))"
   ]
  },
  {
   "cell_type": "code",
   "execution_count": 7,
   "metadata": {},
   "outputs": [],
   "source": [
    "def build_network(layer_sizes, lmbda):\n",
    "    global w, b, z, a, sm, loss\n",
    "    w = []  # weights\n",
    "    b = []  # biases\n",
    "    z = []  # w * x + b\n",
    "    a = []  # activations\n",
    "    \n",
    "    for i, (in_nodes, out_nodes) in enumerate(layer_sizes):\n",
    "        xavier = (2.0 / (in_nodes + out_nodes)) ** 0.5\n",
    "        \n",
    "        w.append(tf.Variable(xavier * np.random.normal(size = (in_nodes, out_nodes)).astype(\"float32\")))\n",
    "        b.append(tf.Variable(0.01 * np.random.normal(size = (out_nodes,)).astype(\"float32\")))\n",
    "        \n",
    "        z.append(tf.matmul(input_X if i == 0 else a[i-1], w[i]) + b[i])\n",
    "        a.append(tf.sigmoid(z[i]))\n",
    "\n",
    "    sm = tf.nn.softmax(a[-1])\n",
    "    loss = -tf.reduce_mean(tf.reduce_sum(tf.log(sm) * input_y, axis = 1))\n",
    "    loss += lmbda * sum([tf.nn.l2_loss(wi) for wi in w])"
   ]
  },
  {
   "cell_type": "code",
   "execution_count": 8,
   "metadata": {},
   "outputs": [],
   "source": [
    "def train_network(X_train, y_train, X_test, y_test, batch_size, epochs):\n",
    "    global w, b, sm, loss, input_X, input_y\n",
    "\n",
    "    optimizer = tf.train.AdamOptimizer().minimize(loss, var_list = w + b)\n",
    "\n",
    "    session.run(tf.global_variables_initializer())\n",
    "    \n",
    "    training_examples = X_train.shape[0]\n",
    "    batches = training_examples // batch_size\n",
    "    \n",
    "    training_loss_path = []\n",
    "    test_loss_path = []\n",
    "    \n",
    "    training_loss_path.append(session.run(loss, {input_X: X_train, input_y: mask_y(y_train)}))\n",
    "    test_loss_path.append(session.run(loss, {input_X: X_test, input_y: mask_y(y_test)}))\n",
    "    \n",
    "    for epoch in range(epochs):\n",
    "        perm = np.random.permutation(training_examples)\n",
    "    \n",
    "        X_batches = np.split(X_train[perm,:], batches)\n",
    "        y_batches = np.split(mask_y(y_train)[perm,:], batches)\n",
    "    \n",
    "        for i in range(batches):\n",
    "            session.run(optimizer, {input_X: X_batches[i], input_y: y_batches[i]})\n",
    "        \n",
    "        training_loss_path.append(session.run(loss, {input_X: X_train, input_y: mask_y(y_train)}))\n",
    "        test_loss_path.append(session.run(loss, {input_X: X_test, input_y: mask_y(y_test)}))\n",
    "    \n",
    "    return training_loss_path, test_loss_path"
   ]
  },
  {
   "cell_type": "code",
   "execution_count": 9,
   "metadata": {},
   "outputs": [],
   "source": [
    "build_network([(img_side * img_side, 500), (500, 10)], 1e-6)\n",
    "\n",
    "from datetime import datetime\n",
    "\n",
    "st = datetime.now()\n",
    "training_loss_path, test_loss_path = train_network(X_train, y_train, X_test, y_test, 10, 20)\n",
    "et = datetime.now()"
   ]
  },
  {
   "cell_type": "code",
   "execution_count": 10,
   "metadata": {},
   "outputs": [
    {
     "name": "stdout",
     "output_type": "stream",
     "text": [
      "0:04:10.019004\n"
     ]
    },
    {
     "data": {
      "text/plain": [
       "array([ 0.9795])"
      ]
     },
     "execution_count": 10,
     "metadata": {},
     "output_type": "execute_result"
    }
   ],
   "source": [
    "print(et - st)\n",
    "\n",
    "def accuracy(X, y, sm, input_X):\n",
    "    pred = session.run(tf.argmax(sm, axis = 1), {input_X: X})\n",
    "    return np.sum(pred == y) / y.shape\n",
    "\n",
    "accuracy(X_test, y_test, sm, input_X)"
   ]
  },
  {
   "cell_type": "code",
   "execution_count": 11,
   "metadata": {},
   "outputs": [
    {
     "data": {
      "text/plain": [
       "[<matplotlib.lines.Line2D at 0x7f5e3f9806d8>]"
      ]
     },
     "execution_count": 11,
     "metadata": {},
     "output_type": "execute_result"
    },
    {
     "data": {
      "image/png": "[encoded data removed]",
      "text/plain": [
       "<matplotlib.figure.Figure at 0x7f5e3f980710>"
      ]
     },
     "metadata": {},
     "output_type": "display_data"
    }
   ],
   "source": [
    "import matplotlib.pyplot\n",
    "\n",
    "matplotlib.pyplot.plot(range(len(training_loss_path)), training_loss_path)\n",
    "matplotlib.pyplot.plot(range(len(training_loss_path)), test_loss_path)"
   ]
  },
  {
   "cell_type": "code",
   "execution_count": null,
   "metadata": {},
   "outputs": [],
   "source": []
  }
 ],
 "metadata": {
  "kernelspec": {
   "display_name": "Python 3",
   "language": "python",
   "name": "python3"
  },
  "language_info": {
   "codemirror_mode": {
    "name": "ipython",
    "version": 3
   },
   "file_extension": ".py",
   "mimetype": "text/x-python",
   "name": "python",
   "nbconvert_exporter": "python",
   "pygments_lexer": "ipython3",
   "version": "3.5.2"
  }
 },
 "nbformat": 4,
 "nbformat_minor": 2
}
